{
 "cells": [
  {
   "cell_type": "code",
   "execution_count": 137,
   "metadata": {},
   "outputs": [
    {
     "data": {
      "text/plain": [
       "(145L,)"
      ]
     },
     "execution_count": 137,
     "metadata": {},
     "output_type": "execute_result"
    }
   ],
   "source": [
    "import matplotlib.pyplot as plt\n",
    "import numpy as np\n",
    "import time\n",
    "from cvxpy import *\n",
    "from scipy.interpolate import interp1d\n",
    "\n",
    "NUM_CARS = 4\n",
    "CONTROL_HORIZON = 24*6\n",
    "SIMULATION_TIME = 24*6\n",
    "\n",
    "\n",
    "def get_parameters():\n",
    "    alpha = 20\n",
    "    beta = 0.1\n",
    "    gamma = 1\n",
    "    u_max = 0.1\n",
    "    u_tot_max = 0.03\n",
    "    return alpha, beta, gamma, u_max, u_tot_max\n",
    "\n",
    "def get_data():\n",
    "    #prices = np.array([1, 1, 1, 1, 8, 9, 8, 8, 6, 5, 4, 4, 5, 5, 6, 6, 7, 10, 12, 7, 5, 3, 2, 1])\n",
    "    prices_day = np.array([1, 1, 1, 1, 8, 9, 8, 8, 6, 5, 4, 4, 5, 5, 6, 6, 7, 10, 12, 7, 5, 3, 2, 1])\n",
    "    repeat=SIMULATION_TIME/len(prices_day)\n",
    "    prices=[]\n",
    "    for i in range(repeat):\n",
    "        prices = np.concatenate((prices, prices_day))\n",
    "    prices = np.concatenate((prices, [0]))\n",
    "\n",
    "    \n",
    "    #prices = np.concatenate((prices, [0]))\n",
    "    cars_presence = np.ones((NUM_CARS, SIMULATION_TIME))\n",
    "    for  j in range(SIMULATION_TIME-50):\n",
    "        cars_presence[1, j] = 0\n",
    "\n",
    "    return prices, cars_presence\n",
    "get_data()[0].shape\n",
    "#print get_data()[0].shape\n",
    "#print get_data()[1].shape\n"
   ]
  },
  {
   "cell_type": "code",
   "execution_count": 146,
   "metadata": {},
   "outputs": [],
   "source": [
    "def get_model_matrix():\n",
    "    gamma = get_parameters()[2]\n",
    "    cars_presence = get_data()[1]\n",
    "\n",
    "    A = np.zeros((NUM_CARS, NUM_CARS, SIMULATION_TIME))\n",
    "    B = np.zeros((NUM_CARS, NUM_CARS, SIMULATION_TIME))\n",
    "\n",
    "    for i in range(SIMULATION_TIME):\n",
    "        A[:, :, i] = np.eye(NUM_CARS)\n",
    "        B[:, :, i] = np.eye(NUM_CARS) * gamma\n",
    "\n",
    "    for i in range(NUM_CARS):\n",
    "        A[i, i, :] = np.multiply(A[i, i, :], cars_presence[i, :])\n",
    "        B[i, i, :] = np.multiply(B[i, i, :], cars_presence[i, :])\n",
    "\n",
    "    return A, B\n",
    "\n",
    "def get_cost_matrix():\n",
    "    prices, cars_presence = get_data()\n",
    "\n",
    "    C=np.zeros((NUM_CARS, SIMULATION_TIME))\n",
    "\n",
    "    for i in range(NUM_CARS):\n",
    "        C[i,:]= prices[:-1].reshape((1,len(prices)-1))\n",
    "    return C\n"
   ]
  },
  {
   "cell_type": "code",
   "execution_count": 159,
   "metadata": {},
   "outputs": [
    {
     "name": "stdout",
     "output_type": "stream",
     "text": [
      "(4L, 144L)\n",
      "WARN: A->p (column pointers) not strictly increasing, column 576 empty\n",
      "WARN: A->p (column pointers) not strictly increasing, column 577 empty\n",
      "WARN: A->p (column pointers) not strictly increasing, column 578 empty\n",
      "WARN: A->p (column pointers) not strictly increasing, column 579 empty\n",
      "WARN: A->p (column pointers) not strictly increasing, column 1152 empty\n",
      "WARN: A->p (column pointers) not strictly increasing, column 1153 empty\n",
      "WARN: A->p (column pointers) not strictly increasing, column 1154 empty\n",
      "WARN: A->p (column pointers) not strictly increasing, column 1155 empty\n",
      "calculation time: 3.79399991035 [sec]\n",
      "x is  None\n"
     ]
    },
    {
     "ename": "TypeError",
     "evalue": "'NoneType' object has no attribute '__getitem__'",
     "output_type": "error",
     "traceback": [
      "\u001b[1;31m\u001b[0m",
      "\u001b[1;31mTypeError\u001b[0mTraceback (most recent call last)",
      "\u001b[1;32m<ipython-input-159-bc3212e62cae>\u001b[0m in \u001b[0;36m<module>\u001b[1;34m()\u001b[0m\n\u001b[0;32m     39\u001b[0m     \u001b[0mplt\u001b[0m\u001b[1;33m.\u001b[0m\u001b[0mfigure\u001b[0m\u001b[1;33m(\u001b[0m\u001b[0mfigsize\u001b[0m\u001b[1;33m=\u001b[0m\u001b[1;33m(\u001b[0m\u001b[1;36m10\u001b[0m\u001b[1;33m,\u001b[0m \u001b[1;36m7\u001b[0m\u001b[1;33m)\u001b[0m\u001b[1;33m)\u001b[0m\u001b[1;33m\u001b[0m\u001b[0m\n\u001b[0;32m     40\u001b[0m     \u001b[1;32mfor\u001b[0m \u001b[0mi\u001b[0m \u001b[1;32min\u001b[0m \u001b[0mrange\u001b[0m\u001b[1;33m(\u001b[0m\u001b[0mNUM_CARS\u001b[0m\u001b[1;33m)\u001b[0m\u001b[1;33m:\u001b[0m\u001b[1;33m\u001b[0m\u001b[0m\n\u001b[1;32m---> 41\u001b[1;33m         \u001b[0mplt\u001b[0m\u001b[1;33m.\u001b[0m\u001b[0mplot\u001b[0m\u001b[1;33m(\u001b[0m\u001b[0mrange\u001b[0m\u001b[1;33m(\u001b[0m\u001b[0mCONTROL_HORIZON\u001b[0m\u001b[1;33m+\u001b[0m\u001b[1;36m1\u001b[0m\u001b[1;33m)\u001b[0m\u001b[1;33m,\u001b[0m \u001b[0mx\u001b[0m\u001b[1;33m[\u001b[0m\u001b[0mi\u001b[0m\u001b[1;33m,\u001b[0m \u001b[1;33m:\u001b[0m\u001b[1;33m]\u001b[0m\u001b[1;33m.\u001b[0m\u001b[0mT\u001b[0m\u001b[1;33m,\u001b[0m \u001b[0mlabel\u001b[0m\u001b[1;33m=\u001b[0m\u001b[1;34m'soc of car '\u001b[0m\u001b[1;33m+\u001b[0m\u001b[0mstr\u001b[0m\u001b[1;33m(\u001b[0m\u001b[0mi\u001b[0m\u001b[1;33m)\u001b[0m\u001b[1;33m)\u001b[0m\u001b[1;33m\u001b[0m\u001b[0m\n\u001b[0m\u001b[0;32m     42\u001b[0m     \u001b[0mplt\u001b[0m\u001b[1;33m.\u001b[0m\u001b[0mplot\u001b[0m\u001b[1;33m(\u001b[0m\u001b[0mrange\u001b[0m\u001b[1;33m(\u001b[0m\u001b[0mCONTROL_HORIZON\u001b[0m\u001b[1;33m)\u001b[0m\u001b[1;33m,\u001b[0m \u001b[0mprices\u001b[0m\u001b[1;33m[\u001b[0m\u001b[1;33m:\u001b[0m\u001b[0mCONTROL_HORIZON\u001b[0m\u001b[1;33m]\u001b[0m\u001b[1;33m/\u001b[0m\u001b[0mmax\u001b[0m\u001b[1;33m(\u001b[0m\u001b[0mprices\u001b[0m\u001b[1;33m)\u001b[0m\u001b[1;33m,\u001b[0m \u001b[0mlabel\u001b[0m\u001b[1;33m=\u001b[0m\u001b[1;34m'prices'\u001b[0m\u001b[1;33m)\u001b[0m\u001b[1;33m\u001b[0m\u001b[0m\n\u001b[0;32m     43\u001b[0m     \u001b[0mplt\u001b[0m\u001b[1;33m.\u001b[0m\u001b[0mlegend\u001b[0m\u001b[1;33m(\u001b[0m\u001b[1;33m)\u001b[0m\u001b[1;33m\u001b[0m\u001b[0m\n",
      "\u001b[1;31mTypeError\u001b[0m: 'NoneType' object has no attribute '__getitem__'"
     ]
    }
   ],
   "source": [
    "def mpc_control(x0):\n",
    "    x = cvxpy.Variable(NUM_CARS, CONTROL_HORIZON+1)\n",
    "    u = cvxpy.Variable(NUM_CARS, CONTROL_HORIZON)\n",
    "\n",
    "    prices, cars_presence = get_data()\n",
    "\n",
    "    C = get_cost_matrix()\n",
    "\n",
    "    alpha, beta, gamma, u_max, u_tot_max = get_parameters()\n",
    "    print (cars_presence).shape\n",
    "    cost = 0\n",
    "    constraints = []\n",
    "    \n",
    "    for i in range(NUM_CARS):\n",
    "        cost+=x[i,:]*prices.reshape((CONTROL_HORIZON+1,1))\n",
    "        for t in range(CONTROL_HORIZON-1):\n",
    "            constraints += [x[i, t+1] ==  x[i, t] +   u[i, t]*cars_presence[i,t] ]\n",
    "            constraints += [u[i, t] >= 0, u[i, t] <= np.ones((NUM_CARS)) - x[i, t]]\n",
    "            constraints += [u[i, t] <= u_max]\n",
    "            constraints += [np.sum(u[i, t]) <= u_tot_max]\n",
    "    constraints += [x[:, 0] == x0]\n",
    "\n",
    "    prob = cvxpy.Problem(cvxpy.Minimize(cost), constraints)\n",
    "\n",
    "    start = time.time()\n",
    "    #prob.solve(verbose=False)\n",
    "    prob.solve(solver=SCS)\n",
    "    elapsed_time = time.time() - start\n",
    "    print('calculation time: {0} [sec]'.format(elapsed_time))\n",
    "\n",
    "    if prob.status == cvxpy.OPTIMAL:\n",
    "        return x.value\n",
    "\n",
    "\n",
    "if __name__ == '__main__':\n",
    "    x = mpc_control(np.array([0.5, 0.2, 0, 0.1]))\n",
    "    print 'x is ', x\n",
    "    prices, cars_presence  = get_data()\n",
    "    plt.figure(figsize=(10, 7))\n",
    "    for i in range(NUM_CARS):\n",
    "        plt.plot(range(CONTROL_HORIZON+1), x[i, :].T, label='soc of car '+str(i))\n",
    "    plt.plot(range(CONTROL_HORIZON), prices[:CONTROL_HORIZON]/max(prices), label='prices')\n",
    "    plt.legend()\n",
    "    plt.grid()\n",
    "    plt.show()\n"
   ]
  },
  {
   "cell_type": "code",
   "execution_count": 123,
   "metadata": {},
   "outputs": [
    {
     "name": "stdout",
     "output_type": "stream",
     "text": [
      "144\n"
     ]
    }
   ],
   "source": [
    "print 24*6"
   ]
  },
  {
   "cell_type": "code",
   "execution_count": null,
   "metadata": {
    "collapsed": true
   },
   "outputs": [],
   "source": []
  }
 ],
 "metadata": {
  "kernelspec": {
   "display_name": "Python 2",
   "language": "python",
   "name": "python2"
  },
  "language_info": {
   "codemirror_mode": {
    "name": "ipython",
    "version": 2
   },
   "file_extension": ".py",
   "mimetype": "text/x-python",
   "name": "python",
   "nbconvert_exporter": "python",
   "pygments_lexer": "ipython2",
   "version": "2.7.14"
  }
 },
 "nbformat": 4,
 "nbformat_minor": 2
}
